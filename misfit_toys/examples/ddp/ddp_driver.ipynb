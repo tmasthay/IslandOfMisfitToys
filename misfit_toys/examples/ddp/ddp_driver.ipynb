{
 "cells": [
  {
   "cell_type": "code",
   "execution_count": null,
   "metadata": {},
   "outputs": [],
   "source": [
    "import panel as pn\n",
    "import holoviews as hv\n",
    "import sys\n",
    "import os\n",
    "from ipykernel import kernelapp as app\n",
    "\n",
    "iomt_path = os.path.abspath(os.path.join(os.getcwd(), \"../../..\"))\n",
    "helpers_path = os.path.abspath(os.path.join(iomt_path, \"../masthay_helpers\"))\n",
    "sys.path.extend([iomt_path, helpers_path])\n",
    "\n",
    "from misfit_toys.examples.ddp.driver import main\n",
    "from masthay_helpers.global_helpers import dupe, undupe\n",
    "\n",
    "dupe()\n",
    "\n",
    "pn.extension()\n",
    "hv.extension(\"matplotlib\")\n",
    "ex1, ex2 = main('conda/data/marmousi/deepwave_example/shots16/')\n",
    "plots = ex1.run()\n",
    "plots_w1 = ex2.run()"
   ]
  },
  {
   "cell_type": "code",
   "execution_count": null,
   "metadata": {},
   "outputs": [],
   "source": [
    "pn.Column(*[plots[k] for k in plots.keys()]).servable()"
   ]
  },
  {
   "cell_type": "code",
   "execution_count": null,
   "metadata": {},
   "outputs": [],
   "source": [
    "pn.Column(*[v for v in plots_w1.values()]).servable()"
   ]
  },
  {
   "cell_type": "code",
   "execution_count": null,
   "metadata": {},
   "outputs": [],
   "source": []
  }
 ],
 "metadata": {
  "kernelspec": {
   "display_name": "Python 3 (ipykernel)",
   "language": "python",
   "name": "python3"
  },
  "language_info": {
   "codemirror_mode": {
    "name": "ipython",
    "version": 3
   },
   "file_extension": ".py",
   "mimetype": "text/x-python",
   "name": "python",
   "nbconvert_exporter": "python",
   "pygments_lexer": "ipython3",
   "version": "3.10.12"
  }
 },
 "nbformat": 4,
 "nbformat_minor": 4
}
