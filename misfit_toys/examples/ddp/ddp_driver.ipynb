{
 "cells": [
  {
   "cell_type": "code",
   "execution_count": null,
   "metadata": {},
   "outputs": [],
   "source": [
    "import panel as pn\n",
    "import holoviews as hv\n",
    "import sys\n",
    "import os\n",
    "from ipykernel import kernelapp as app\n",
    "\n",
    "iomt_path = os.path.abspath(os.path.join(os.getcwd(), \"../../..\"))\n",
    "helpers_path = os.path.abspath(os.path.join(iomt_path, \"../masthay_helpers\"))\n",
    "sys.path.extend([iomt_path, helpers_path])\n",
    "\n",
    "from misfit_toys.examples.ddp.ddp_driver import main\n",
    "from masthay_helpers.global_helpers import dupe, undupe\n",
    "\n",
    "dupe()\n",
    "\n",
    "pn.extension()\n",
    "hv.extension(\"matplotlib\")\n",
    "plots, plots_w1 = main()"
   ]
  },
  {
   "cell_type": "code",
   "execution_count": 2,
   "metadata": {
    "scrolled": true
   },
   "outputs": [
    {
     "data": {
      "application/vnd.jupyter.widget-view+json": {
       "model_id": "a808ee248ae1492b81b3dd4d05d884d8",
       "version_major": 2,
       "version_minor": 0
      },
      "text/plain": [
       "BokehModel(combine_events=True, render_bundle={'docs_json': {'19f546b7-2e3e-4078-b028-6457c3b69852': {'version…"
      ]
     },
     "execution_count": 2,
     "metadata": {},
     "output_type": "execute_result"
    }
   ],
   "source": [
    "pn.Column(*[plots[k] for k in plots.keys()]).servable()"
   ]
  },
  {
   "cell_type": "code",
   "execution_count": 3,
   "metadata": {},
   "outputs": [
    {
     "data": {
      "application/vnd.jupyter.widget-view+json": {
       "model_id": "889abd416446409fb18d15f31a9209c3",
       "version_major": 2,
       "version_minor": 0
      },
      "text/plain": [
       "BokehModel(combine_events=True, render_bundle={'docs_json': {'19e4960a-b470-47f3-8af9-76ca77779c7b': {'version…"
      ]
     },
     "execution_count": 3,
     "metadata": {},
     "output_type": "execute_result"
    }
   ],
   "source": [
    "pn.Column(*[v for v in plots_w1.values()]).servable()"
   ]
  },
  {
   "cell_type": "code",
   "execution_count": null,
   "metadata": {},
   "outputs": [],
   "source": []
  }
 ],
 "metadata": {
  "kernelspec": {
   "display_name": "Python 3 (ipykernel)",
   "language": "python",
   "name": "python3"
  },
  "language_info": {
   "codemirror_mode": {
    "name": "ipython",
    "version": 3
   },
   "file_extension": ".py",
   "mimetype": "text/x-python",
   "name": "python",
   "nbconvert_exporter": "python",
   "pygments_lexer": "ipython3",
   "version": "3.10.12"
  }
 },
 "nbformat": 4,
 "nbformat_minor": 4
}
