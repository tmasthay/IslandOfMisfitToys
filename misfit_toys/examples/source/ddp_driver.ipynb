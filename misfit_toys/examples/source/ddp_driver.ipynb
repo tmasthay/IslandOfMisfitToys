{
 "cells": [
  {
   "cell_type": "code",
   "execution_count": null,
   "metadata": {},
   "outputs": [],
   "source": [
    "import panel as pn\n",
    "import holoviews as hv\n",
    "import sys\n",
    "import os\n",
    "from ipykernel import kernelapp as app\n",
    "\n",
    "iomt_path = os.path.abspath(os.path.join(os.getcwd(), \"../../..\"))\n",
    "helpers_path = os.path.abspath(os.path.join(iomt_path, \"../masthay_helpers\"))\n",
    "sys.path.extend([iomt_path, helpers_path])\n",
    "\n",
    "from misfit_toys.examples.source.driver import main\n",
    "from masthay_helpers.global_helpers import dupe, undupe\n",
    "\n",
    "dupe()\n",
    "\n",
    "pn.extension()\n",
    "hv.extension(\"matplotlib\")\n",
    "ex1, kw = main('conda/data/marmousi/deepwave_example/shots16')"
   ]
  },
  {
   "cell_type": "code",
   "execution_count": null,
   "metadata": {},
   "outputs": [],
   "source": [
    "plots = ex1.run(**kw)"
   ]
  },
  {
   "cell_type": "code",
   "execution_count": null,
   "metadata": {},
   "outputs": [],
   "source": [
    "u = pn.Column(*[plots[k] for k in plots.keys()])"
   ]
  },
  {
   "cell_type": "code",
   "execution_count": null,
   "metadata": {},
   "outputs": [],
   "source": [
    "u.servable()"
   ]
  },
  {
   "cell_type": "code",
   "execution_count": null,
   "metadata": {},
   "outputs": [],
   "source": [
    "import holoviews as hv\n",
    "import numpy as np\n",
    "\n",
    "hv.extension('matplotlib')\n",
    "\n",
    "# Your example data\n",
    "x = np.linspace(1, 2, 100)\n",
    "y = np.linspace(4, 5, 100)\n",
    "X, Y = np.meshgrid(x, y)\n",
    "Z = np.sin(X + Y)\n",
    "\n",
    "\n",
    "# Define a hook function to set the extent\n",
    "def set_extent(plot, element):\n",
    "    # plot.handles['axis'].set_xlim(1, 2)\n",
    "    # plot.handles['axis'].set_ylim(4, 5)\n",
    "    # plot.handles['axis'].imshow(plot.handles['artist'].get_array(), extent=(1,2,4,5), aspect='equal')\n",
    "    pass\n",
    "\n",
    "\n",
    "# Create the image with the hook\n",
    "img = hv.Image((x, y, Z), extents=(1, 4, 2, 5))\n",
    "\n",
    "# Display the image\n",
    "img"
   ]
  },
  {
   "cell_type": "code",
   "execution_count": null,
   "metadata": {},
   "outputs": [],
   "source": []
  },
  {
   "cell_type": "code",
   "execution_count": null,
   "metadata": {},
   "outputs": [],
   "source": []
  }
 ],
 "metadata": {
  "kernelspec": {
   "display_name": "Python 3 (ipykernel)",
   "language": "python",
   "name": "python3"
  },
  "language_info": {
   "codemirror_mode": {
    "name": "ipython",
    "version": 3
   },
   "file_extension": ".py",
   "mimetype": "text/x-python",
   "name": "python",
   "nbconvert_exporter": "python",
   "pygments_lexer": "ipython3",
   "version": "3.10.12"
  }
 },
 "nbformat": 4,
 "nbformat_minor": 4
}
