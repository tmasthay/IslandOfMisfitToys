{
 "cells": [
  {
   "cell_type": "code",
   "execution_count": null,
   "id": "ecd68392",
   "metadata": {},
   "outputs": [],
   "source": [
    "from masthay_helpers.jupyter import iplot_workhorse\n",
    "from misfit_toys.utils import parse_path\n",
    "import panel as pn\n",
    "import torch\n",
    "from masthay_helpers.global_helpers import pandify\n",
    "import os\n",
    "\n",
    "path = \"conda/IOMT_VALIDATION/iomt/data\"\n",
    "get = lambda x: torch.load(parse_path(os.path.join(path, x)))\n",
    "\n",
    "pn.extension()\n",
    "data1 = get(\"out_filt_record.pt\")\n",
    "data2 = get(\"out_record.pt\")\n",
    "data = torch.stack([data1, data2])\n",
    "column_names = [\"Shot\", \"Receiver\", \"Time Sample\", \"Frequency Sample\", \"Epoch\"]\n",
    "\n",
    "ylim = (data.min().item(), data.max().item())\n",
    "\n",
    "subtitles = [\"Filtered Observations\", \"Raw Observations\"]\n",
    "kw = dict(\n",
    "    one=dict(\n",
    "        title=\"Observation Traces\",\n",
    "        aspect=\"square\",\n",
    "        loop=dict(labels=subtitles),\n",
    "        ylim=(data.min().item(), data.max().item()),\n",
    "        ylabel=\"Acoustic Amplitude\",\n",
    "    ),\n",
    "    two=dict(\n",
    "        colorbar=True,\n",
    "        aspect=\"square\",\n",
    "        loop=dict(titles=subtitles),\n",
    "        cmap=\"seismic\",\n",
    "    ),\n",
    ")\n",
    "data_frame = pandify(data, column_names)\n",
    "plot = iplot_workhorse(data_frame=data_frame, cols=2, **kw)\n",
    "plot.servable()"
   ]
  },
  {
   "cell_type": "code",
   "execution_count": null,
   "id": "f54d6f0e-051e-4bf7-8966-75a90ac22c21",
   "metadata": {},
   "outputs": [],
   "source": []
  },
  {
   "cell_type": "code",
   "execution_count": null,
   "id": "d504316d-695e-445e-8e5c-35f504c6eb0c",
   "metadata": {},
   "outputs": [],
   "source": []
  }
 ],
 "metadata": {
  "kernelspec": {
   "display_name": "Python 3 (ipykernel)",
   "language": "python",
   "name": "python3"
  },
  "language_info": {
   "codemirror_mode": {
    "name": "ipython",
    "version": 3
   },
   "file_extension": ".py",
   "mimetype": "text/x-python",
   "name": "python",
   "nbconvert_exporter": "python",
   "pygments_lexer": "ipython3",
   "version": "3.10.12"
  }
 },
 "nbformat": 4,
 "nbformat_minor": 5
}
